{
 "cells": [
  {
   "cell_type": "code",
   "execution_count": 1,
   "metadata": {},
   "outputs": [],
   "source": [
    "import numpy as np\n",
    "import pandas as pd\n",
    "import matplotlib.pyplot as plt\n",
    "import seaborn as sns\n",
    "%matplotlib inline\n",
    "import warnings\n",
    "warnings.filterwarnings('ignore')\n"
   ]
  },
  {
   "cell_type": "code",
   "execution_count": 2,
   "metadata": {},
   "outputs": [
    {
     "data": {
      "text/html": [
       "<div>\n",
       "<style scoped>\n",
       "    .dataframe tbody tr th:only-of-type {\n",
       "        vertical-align: middle;\n",
       "    }\n",
       "\n",
       "    .dataframe tbody tr th {\n",
       "        vertical-align: top;\n",
       "    }\n",
       "\n",
       "    .dataframe thead th {\n",
       "        text-align: right;\n",
       "    }\n",
       "</style>\n",
       "<table border=\"1\" class=\"dataframe\">\n",
       "  <thead>\n",
       "    <tr style=\"text-align: right;\">\n",
       "      <th></th>\n",
       "      <th>SLNO</th>\n",
       "      <th>Candidate.Ref</th>\n",
       "      <th>DOJ.Extended</th>\n",
       "      <th>Duration.to.accept.offer</th>\n",
       "      <th>Notice.period</th>\n",
       "      <th>Offered.band</th>\n",
       "      <th>Pecent.hike.expected.in.CTC</th>\n",
       "      <th>Percent.hike.offered.in.CTC</th>\n",
       "      <th>Percent.difference.CTC</th>\n",
       "      <th>Joining.Bonus</th>\n",
       "      <th>Candidate.relocate.actual</th>\n",
       "      <th>Gender</th>\n",
       "      <th>Candidate.Source</th>\n",
       "      <th>Rex.in.Yrs</th>\n",
       "      <th>LOB</th>\n",
       "      <th>Location</th>\n",
       "      <th>Age</th>\n",
       "      <th>Status</th>\n",
       "    </tr>\n",
       "  </thead>\n",
       "  <tbody>\n",
       "    <tr>\n",
       "      <th>0</th>\n",
       "      <td>1</td>\n",
       "      <td>2110407</td>\n",
       "      <td>Yes</td>\n",
       "      <td>14</td>\n",
       "      <td>30</td>\n",
       "      <td>E2</td>\n",
       "      <td>-20.79</td>\n",
       "      <td>13.16</td>\n",
       "      <td>42.86</td>\n",
       "      <td>No</td>\n",
       "      <td>No</td>\n",
       "      <td>Female</td>\n",
       "      <td>Agency</td>\n",
       "      <td>7</td>\n",
       "      <td>ERS</td>\n",
       "      <td>Noida</td>\n",
       "      <td>34</td>\n",
       "      <td>Joined</td>\n",
       "    </tr>\n",
       "    <tr>\n",
       "      <th>1</th>\n",
       "      <td>2</td>\n",
       "      <td>2112635</td>\n",
       "      <td>No</td>\n",
       "      <td>18</td>\n",
       "      <td>30</td>\n",
       "      <td>E2</td>\n",
       "      <td>50.00</td>\n",
       "      <td>320.00</td>\n",
       "      <td>180.00</td>\n",
       "      <td>No</td>\n",
       "      <td>No</td>\n",
       "      <td>Male</td>\n",
       "      <td>Employee Referral</td>\n",
       "      <td>8</td>\n",
       "      <td>INFRA</td>\n",
       "      <td>Chennai</td>\n",
       "      <td>34</td>\n",
       "      <td>Joined</td>\n",
       "    </tr>\n",
       "    <tr>\n",
       "      <th>2</th>\n",
       "      <td>3</td>\n",
       "      <td>2112838</td>\n",
       "      <td>No</td>\n",
       "      <td>3</td>\n",
       "      <td>45</td>\n",
       "      <td>E2</td>\n",
       "      <td>42.84</td>\n",
       "      <td>42.84</td>\n",
       "      <td>0.00</td>\n",
       "      <td>No</td>\n",
       "      <td>No</td>\n",
       "      <td>Male</td>\n",
       "      <td>Agency</td>\n",
       "      <td>4</td>\n",
       "      <td>INFRA</td>\n",
       "      <td>Noida</td>\n",
       "      <td>27</td>\n",
       "      <td>Joined</td>\n",
       "    </tr>\n",
       "    <tr>\n",
       "      <th>3</th>\n",
       "      <td>4</td>\n",
       "      <td>2115021</td>\n",
       "      <td>No</td>\n",
       "      <td>26</td>\n",
       "      <td>30</td>\n",
       "      <td>E2</td>\n",
       "      <td>42.84</td>\n",
       "      <td>42.84</td>\n",
       "      <td>0.00</td>\n",
       "      <td>No</td>\n",
       "      <td>No</td>\n",
       "      <td>Male</td>\n",
       "      <td>Employee Referral</td>\n",
       "      <td>4</td>\n",
       "      <td>INFRA</td>\n",
       "      <td>Noida</td>\n",
       "      <td>34</td>\n",
       "      <td>Joined</td>\n",
       "    </tr>\n",
       "    <tr>\n",
       "      <th>4</th>\n",
       "      <td>5</td>\n",
       "      <td>2115125</td>\n",
       "      <td>Yes</td>\n",
       "      <td>1</td>\n",
       "      <td>120</td>\n",
       "      <td>E2</td>\n",
       "      <td>42.59</td>\n",
       "      <td>42.59</td>\n",
       "      <td>0.00</td>\n",
       "      <td>No</td>\n",
       "      <td>Yes</td>\n",
       "      <td>Male</td>\n",
       "      <td>Employee Referral</td>\n",
       "      <td>6</td>\n",
       "      <td>INFRA</td>\n",
       "      <td>Noida</td>\n",
       "      <td>34</td>\n",
       "      <td>Joined</td>\n",
       "    </tr>\n",
       "  </tbody>\n",
       "</table>\n",
       "</div>"
      ],
      "text/plain": [
       "   SLNO  Candidate.Ref DOJ.Extended  Duration.to.accept.offer  Notice.period  \\\n",
       "0     1        2110407          Yes                        14             30   \n",
       "1     2        2112635           No                        18             30   \n",
       "2     3        2112838           No                         3             45   \n",
       "3     4        2115021           No                        26             30   \n",
       "4     5        2115125          Yes                         1            120   \n",
       "\n",
       "  Offered.band  Pecent.hike.expected.in.CTC  Percent.hike.offered.in.CTC  \\\n",
       "0           E2                       -20.79                        13.16   \n",
       "1           E2                        50.00                       320.00   \n",
       "2           E2                        42.84                        42.84   \n",
       "3           E2                        42.84                        42.84   \n",
       "4           E2                        42.59                        42.59   \n",
       "\n",
       "   Percent.difference.CTC Joining.Bonus Candidate.relocate.actual  Gender  \\\n",
       "0                   42.86            No                        No  Female   \n",
       "1                  180.00            No                        No    Male   \n",
       "2                    0.00            No                        No    Male   \n",
       "3                    0.00            No                        No    Male   \n",
       "4                    0.00            No                       Yes    Male   \n",
       "\n",
       "    Candidate.Source  Rex.in.Yrs    LOB Location  Age  Status  \n",
       "0             Agency           7    ERS    Noida   34  Joined  \n",
       "1  Employee Referral           8  INFRA  Chennai   34  Joined  \n",
       "2             Agency           4  INFRA    Noida   27  Joined  \n",
       "3  Employee Referral           4  INFRA    Noida   34  Joined  \n",
       "4  Employee Referral           6  INFRA    Noida   34  Joined  "
      ]
     },
     "execution_count": 2,
     "metadata": {},
     "output_type": "execute_result"
    }
   ],
   "source": [
    "df=pd.read_csv('C://Users//Nandini MUKKA//Downloads//HR_data.csv')\n",
    "df.head()"
   ]
  },
  {
   "cell_type": "code",
   "execution_count": 3,
   "metadata": {},
   "outputs": [
    {
     "data": {
      "text/plain": [
       "(8995, 18)"
      ]
     },
     "execution_count": 3,
     "metadata": {},
     "output_type": "execute_result"
    }
   ],
   "source": [
    "df.shape"
   ]
  },
  {
   "cell_type": "code",
   "execution_count": 4,
   "metadata": {},
   "outputs": [
    {
     "data": {
      "text/plain": [
       "SLNO                           0\n",
       "Candidate.Ref                  0\n",
       "DOJ.Extended                   0\n",
       "Duration.to.accept.offer       0\n",
       "Notice.period                  0\n",
       "Offered.band                   0\n",
       "Pecent.hike.expected.in.CTC    0\n",
       "Percent.hike.offered.in.CTC    0\n",
       "Percent.difference.CTC         0\n",
       "Joining.Bonus                  0\n",
       "Candidate.relocate.actual      0\n",
       "Gender                         0\n",
       "Candidate.Source               0\n",
       "Rex.in.Yrs                     0\n",
       "LOB                            0\n",
       "Location                       0\n",
       "Age                            0\n",
       "Status                         0\n",
       "dtype: int64"
      ]
     },
     "execution_count": 4,
     "metadata": {},
     "output_type": "execute_result"
    }
   ],
   "source": [
    "df.isnull().sum()"
   ]
  },
  {
   "cell_type": "code",
   "execution_count": 5,
   "metadata": {},
   "outputs": [
    {
     "data": {
      "text/plain": [
       "(8995, 18)"
      ]
     },
     "execution_count": 5,
     "metadata": {},
     "output_type": "execute_result"
    }
   ],
   "source": [
    "df.shape"
   ]
  },
  {
   "cell_type": "code",
   "execution_count": 6,
   "metadata": {},
   "outputs": [],
   "source": [
    "d1=df.drop(columns=['SLNO','Candidate.Ref'],axis=0)\n"
   ]
  },
  {
   "cell_type": "code",
   "execution_count": 7,
   "metadata": {},
   "outputs": [
    {
     "name": "stdout",
     "output_type": "stream",
     "text": [
      "<class 'pandas.core.frame.DataFrame'>\n",
      "RangeIndex: 8995 entries, 0 to 8994\n",
      "Data columns (total 16 columns):\n",
      "DOJ.Extended                   8995 non-null object\n",
      "Duration.to.accept.offer       8995 non-null int64\n",
      "Notice.period                  8995 non-null int64\n",
      "Offered.band                   8995 non-null object\n",
      "Pecent.hike.expected.in.CTC    8995 non-null float64\n",
      "Percent.hike.offered.in.CTC    8995 non-null float64\n",
      "Percent.difference.CTC         8995 non-null float64\n",
      "Joining.Bonus                  8995 non-null object\n",
      "Candidate.relocate.actual      8995 non-null object\n",
      "Gender                         8995 non-null object\n",
      "Candidate.Source               8995 non-null object\n",
      "Rex.in.Yrs                     8995 non-null int64\n",
      "LOB                            8995 non-null object\n",
      "Location                       8995 non-null object\n",
      "Age                            8995 non-null int64\n",
      "Status                         8995 non-null object\n",
      "dtypes: float64(3), int64(4), object(9)\n",
      "memory usage: 1.1+ MB\n"
     ]
    }
   ],
   "source": [
    "d1.info()"
   ]
  },
  {
   "cell_type": "code",
   "execution_count": 8,
   "metadata": {},
   "outputs": [
    {
     "data": {
      "text/plain": [
       "(8995, 16)"
      ]
     },
     "execution_count": 8,
     "metadata": {},
     "output_type": "execute_result"
    }
   ],
   "source": [
    "d1.shape"
   ]
  },
  {
   "cell_type": "code",
   "execution_count": 9,
   "metadata": {},
   "outputs": [],
   "source": [
    "corr=d1.corr()"
   ]
  },
  {
   "cell_type": "code",
   "execution_count": 10,
   "metadata": {},
   "outputs": [
    {
     "data": {
      "image/png": "[encoded data removed]",
      "text/plain": [
       "<Figure size 576x360 with 2 Axes>"
      ]
     },
     "metadata": {
      "needs_background": "light"
     },
     "output_type": "display_data"
    }
   ],
   "source": [
    "mask=np.zeros_like(corr)\n",
    "mask[np.triu_indices_from(mask)]=True\n",
    "plt.figure(figsize=(8,5))\n",
    "sns.heatmap(corr,annot=True,cmap='gnuplot',mask=mask)\n",
    "plt.title('Multi-Collinearity')\n",
    "plt.show()"
   ]
  },
  {
   "cell_type": "code",
   "execution_count": 11,
   "metadata": {},
   "outputs": [],
   "source": [
    "#consider only numerical data\n",
    "num_col=d1.dtypes[df.dtypes=='int64'].index"
   ]
  },
  {
   "cell_type": "code",
   "execution_count": 12,
   "metadata": {},
   "outputs": [],
   "source": [
    "x_num=d1[num_col]"
   ]
  },
  {
   "cell_type": "code",
   "execution_count": 13,
   "metadata": {},
   "outputs": [
    {
     "data": {
      "text/plain": [
       "(8995, 4)"
      ]
     },
     "execution_count": 13,
     "metadata": {},
     "output_type": "execute_result"
    }
   ],
   "source": [
    "x_num.shape"
   ]
  },
  {
   "cell_type": "code",
   "execution_count": 57,
   "metadata": {},
   "outputs": [],
   "source": [
    "from statsmodels.stats.outliers_influence import variance_inflation_factor"
   ]
  },
  {
   "cell_type": "code",
   "execution_count": 58,
   "metadata": {},
   "outputs": [
    {
     "data": {
      "text/html": [
       "<div>\n",
       "<style scoped>\n",
       "    .dataframe tbody tr th:only-of-type {\n",
       "        vertical-align: middle;\n",
       "    }\n",
       "\n",
       "    .dataframe tbody tr th {\n",
       "        vertical-align: top;\n",
       "    }\n",
       "\n",
       "    .dataframe thead th {\n",
       "        text-align: right;\n",
       "    }\n",
       "</style>\n",
       "<table border=\"1\" class=\"dataframe\">\n",
       "  <thead>\n",
       "    <tr style=\"text-align: right;\">\n",
       "      <th></th>\n",
       "      <th>Features</th>\n",
       "      <th>VIF Score</th>\n",
       "    </tr>\n",
       "  </thead>\n",
       "  <tbody>\n",
       "    <tr>\n",
       "      <th>0</th>\n",
       "      <td>Duration.to.accept.offer</td>\n",
       "      <td>1.951738</td>\n",
       "    </tr>\n",
       "    <tr>\n",
       "      <th>1</th>\n",
       "      <td>Notice.period</td>\n",
       "      <td>4.562312</td>\n",
       "    </tr>\n",
       "    <tr>\n",
       "      <th>2</th>\n",
       "      <td>Rex.in.Yrs</td>\n",
       "      <td>4.834467</td>\n",
       "    </tr>\n",
       "    <tr>\n",
       "      <th>3</th>\n",
       "      <td>Age</td>\n",
       "      <td>7.014953</td>\n",
       "    </tr>\n",
       "  </tbody>\n",
       "</table>\n",
       "</div>"
      ],
      "text/plain": [
       "                   Features  VIF Score\n",
       "0  Duration.to.accept.offer   1.951738\n",
       "1             Notice.period   4.562312\n",
       "2                Rex.in.Yrs   4.834467\n",
       "3                       Age   7.014953"
      ]
     },
     "execution_count": 58,
     "metadata": {},
     "output_type": "execute_result"
    }
   ],
   "source": [
    "vif=pd.DataFrame()\n",
    "vif['Features']=x_num.keys()\n",
    "vif['VIF Score']=[variance_inflation_factor(x_num.values,i) for i in range(4)]\n",
    "vif"
   ]
  },
  {
   "cell_type": "markdown",
   "metadata": {},
   "source": [
    "# creating Dummmies"
   ]
  },
  {
   "cell_type": "code",
   "execution_count": 16,
   "metadata": {},
   "outputs": [
    {
     "data": {
      "text/html": [
       "<div>\n",
       "<style scoped>\n",
       "    .dataframe tbody tr th:only-of-type {\n",
       "        vertical-align: middle;\n",
       "    }\n",
       "\n",
       "    .dataframe tbody tr th {\n",
       "        vertical-align: top;\n",
       "    }\n",
       "\n",
       "    .dataframe thead th {\n",
       "        text-align: right;\n",
       "    }\n",
       "</style>\n",
       "<table border=\"1\" class=\"dataframe\">\n",
       "  <thead>\n",
       "    <tr style=\"text-align: right;\">\n",
       "      <th></th>\n",
       "      <th>Duration.to.accept.offer</th>\n",
       "      <th>Notice.period</th>\n",
       "      <th>Pecent.hike.expected.in.CTC</th>\n",
       "      <th>Percent.hike.offered.in.CTC</th>\n",
       "      <th>Percent.difference.CTC</th>\n",
       "      <th>Rex.in.Yrs</th>\n",
       "      <th>Age</th>\n",
       "      <th>DOJ.Extended_Yes</th>\n",
       "      <th>Offered.band_E1</th>\n",
       "      <th>Offered.band_E2</th>\n",
       "      <th>...</th>\n",
       "      <th>Location_Chennai</th>\n",
       "      <th>Location_Cochin</th>\n",
       "      <th>Location_Gurgaon</th>\n",
       "      <th>Location_Hyderabad</th>\n",
       "      <th>Location_Kolkata</th>\n",
       "      <th>Location_Mumbai</th>\n",
       "      <th>Location_Noida</th>\n",
       "      <th>Location_Others</th>\n",
       "      <th>Location_Pune</th>\n",
       "      <th>Status_Not Joined</th>\n",
       "    </tr>\n",
       "  </thead>\n",
       "  <tbody>\n",
       "    <tr>\n",
       "      <th>0</th>\n",
       "      <td>14</td>\n",
       "      <td>30</td>\n",
       "      <td>-20.79</td>\n",
       "      <td>13.16</td>\n",
       "      <td>42.86</td>\n",
       "      <td>7</td>\n",
       "      <td>34</td>\n",
       "      <td>1</td>\n",
       "      <td>0</td>\n",
       "      <td>1</td>\n",
       "      <td>...</td>\n",
       "      <td>0</td>\n",
       "      <td>0</td>\n",
       "      <td>0</td>\n",
       "      <td>0</td>\n",
       "      <td>0</td>\n",
       "      <td>0</td>\n",
       "      <td>1</td>\n",
       "      <td>0</td>\n",
       "      <td>0</td>\n",
       "      <td>0</td>\n",
       "    </tr>\n",
       "    <tr>\n",
       "      <th>1</th>\n",
       "      <td>18</td>\n",
       "      <td>30</td>\n",
       "      <td>50.00</td>\n",
       "      <td>320.00</td>\n",
       "      <td>180.00</td>\n",
       "      <td>8</td>\n",
       "      <td>34</td>\n",
       "      <td>0</td>\n",
       "      <td>0</td>\n",
       "      <td>1</td>\n",
       "      <td>...</td>\n",
       "      <td>1</td>\n",
       "      <td>0</td>\n",
       "      <td>0</td>\n",
       "      <td>0</td>\n",
       "      <td>0</td>\n",
       "      <td>0</td>\n",
       "      <td>0</td>\n",
       "      <td>0</td>\n",
       "      <td>0</td>\n",
       "      <td>0</td>\n",
       "    </tr>\n",
       "    <tr>\n",
       "      <th>2</th>\n",
       "      <td>3</td>\n",
       "      <td>45</td>\n",
       "      <td>42.84</td>\n",
       "      <td>42.84</td>\n",
       "      <td>0.00</td>\n",
       "      <td>4</td>\n",
       "      <td>27</td>\n",
       "      <td>0</td>\n",
       "      <td>0</td>\n",
       "      <td>1</td>\n",
       "      <td>...</td>\n",
       "      <td>0</td>\n",
       "      <td>0</td>\n",
       "      <td>0</td>\n",
       "      <td>0</td>\n",
       "      <td>0</td>\n",
       "      <td>0</td>\n",
       "      <td>1</td>\n",
       "      <td>0</td>\n",
       "      <td>0</td>\n",
       "      <td>0</td>\n",
       "    </tr>\n",
       "    <tr>\n",
       "      <th>3</th>\n",
       "      <td>26</td>\n",
       "      <td>30</td>\n",
       "      <td>42.84</td>\n",
       "      <td>42.84</td>\n",
       "      <td>0.00</td>\n",
       "      <td>4</td>\n",
       "      <td>34</td>\n",
       "      <td>0</td>\n",
       "      <td>0</td>\n",
       "      <td>1</td>\n",
       "      <td>...</td>\n",
       "      <td>0</td>\n",
       "      <td>0</td>\n",
       "      <td>0</td>\n",
       "      <td>0</td>\n",
       "      <td>0</td>\n",
       "      <td>0</td>\n",
       "      <td>1</td>\n",
       "      <td>0</td>\n",
       "      <td>0</td>\n",
       "      <td>0</td>\n",
       "    </tr>\n",
       "    <tr>\n",
       "      <th>4</th>\n",
       "      <td>1</td>\n",
       "      <td>120</td>\n",
       "      <td>42.59</td>\n",
       "      <td>42.59</td>\n",
       "      <td>0.00</td>\n",
       "      <td>6</td>\n",
       "      <td>34</td>\n",
       "      <td>1</td>\n",
       "      <td>0</td>\n",
       "      <td>1</td>\n",
       "      <td>...</td>\n",
       "      <td>0</td>\n",
       "      <td>0</td>\n",
       "      <td>0</td>\n",
       "      <td>0</td>\n",
       "      <td>0</td>\n",
       "      <td>0</td>\n",
       "      <td>1</td>\n",
       "      <td>0</td>\n",
       "      <td>0</td>\n",
       "      <td>0</td>\n",
       "    </tr>\n",
       "  </tbody>\n",
       "</table>\n",
       "<p>5 rows × 35 columns</p>\n",
       "</div>"
      ],
      "text/plain": [
       "   Duration.to.accept.offer  Notice.period  Pecent.hike.expected.in.CTC  \\\n",
       "0                        14             30                       -20.79   \n",
       "1                        18             30                        50.00   \n",
       "2                         3             45                        42.84   \n",
       "3                        26             30                        42.84   \n",
       "4                         1            120                        42.59   \n",
       "\n",
       "   Percent.hike.offered.in.CTC  Percent.difference.CTC  Rex.in.Yrs  Age  \\\n",
       "0                        13.16                   42.86           7   34   \n",
       "1                       320.00                  180.00           8   34   \n",
       "2                        42.84                    0.00           4   27   \n",
       "3                        42.84                    0.00           4   34   \n",
       "4                        42.59                    0.00           6   34   \n",
       "\n",
       "   DOJ.Extended_Yes  Offered.band_E1  Offered.band_E2  ...  Location_Chennai  \\\n",
       "0                 1                0                1  ...                 0   \n",
       "1                 0                0                1  ...                 1   \n",
       "2                 0                0                1  ...                 0   \n",
       "3                 0                0                1  ...                 0   \n",
       "4                 1                0                1  ...                 0   \n",
       "\n",
       "   Location_Cochin  Location_Gurgaon  Location_Hyderabad  Location_Kolkata  \\\n",
       "0                0                 0                   0                 0   \n",
       "1                0                 0                   0                 0   \n",
       "2                0                 0                   0                 0   \n",
       "3                0                 0                   0                 0   \n",
       "4                0                 0                   0                 0   \n",
       "\n",
       "   Location_Mumbai  Location_Noida  Location_Others  Location_Pune  \\\n",
       "0                0               1                0              0   \n",
       "1                0               0                0              0   \n",
       "2                0               1                0              0   \n",
       "3                0               1                0              0   \n",
       "4                0               1                0              0   \n",
       "\n",
       "   Status_Not Joined  \n",
       "0                  0  \n",
       "1                  0  \n",
       "2                  0  \n",
       "3                  0  \n",
       "4                  0  \n",
       "\n",
       "[5 rows x 35 columns]"
      ]
     },
     "execution_count": 16,
     "metadata": {},
     "output_type": "execute_result"
    }
   ],
   "source": [
    "df_dum=pd.get_dummies(d1,drop_first=True)\n",
    "df_dum.head()"
   ]
  },
  {
   "cell_type": "code",
   "execution_count": 17,
   "metadata": {},
   "outputs": [],
   "source": [
    "# splitting data into independent and dependent variables\n",
    "x=df_dum.iloc[:,:-1]\n",
    "y=df_dum.iloc[:,-1]"
   ]
  },
  {
   "cell_type": "code",
   "execution_count": 60,
   "metadata": {},
   "outputs": [
    {
     "data": {
      "text/plain": [
       "0    7313\n",
       "1    1682\n",
       "Name: Status_Not Joined, dtype: int64"
      ]
     },
     "execution_count": 60,
     "metadata": {},
     "output_type": "execute_result"
    },
    {
     "data": {
      "image/png": "[encoded data removed]",
      "text/plain": [
       "<Figure size 432x288 with 1 Axes>"
      ]
     },
     "metadata": {
      "needs_background": "light"
     },
     "output_type": "display_data"
    }
   ],
   "source": [
    "pd.Series(y).value_counts().plot('bar')\n",
    "pd.Series(y).value_counts()"
   ]
  },
  {
   "cell_type": "code",
   "execution_count": 59,
   "metadata": {},
   "outputs": [
    {
     "data": {
      "text/plain": [
       "0    7313\n",
       "1    1682\n",
       "Name: Status_Not Joined, dtype: int64"
      ]
     },
     "execution_count": 59,
     "metadata": {},
     "output_type": "execute_result"
    }
   ],
   "source": [
    "y.value_counts()"
   ]
  },
  {
   "cell_type": "code",
   "execution_count": 19,
   "metadata": {},
   "outputs": [
    {
     "data": {
      "text/plain": [
       "(8995, 35)"
      ]
     },
     "execution_count": 19,
     "metadata": {},
     "output_type": "execute_result"
    }
   ],
   "source": [
    "df_dum.shape"
   ]
  },
  {
   "cell_type": "markdown",
   "metadata": {},
   "source": [
    "# Building a Model"
   ]
  },
  {
   "cell_type": "code",
   "execution_count": 20,
   "metadata": {},
   "outputs": [],
   "source": [
    "import statsmodels.api as sm"
   ]
  },
  {
   "cell_type": "code",
   "execution_count": 21,
   "metadata": {},
   "outputs": [
    {
     "name": "stdout",
     "output_type": "stream",
     "text": [
      "                 Generalized Linear Model Regression Results                  \n",
      "==============================================================================\n",
      "Dep. Variable:      Status_Not Joined   No. Observations:                 8995\n",
      "Model:                            GLM   Df Residuals:                     8961\n",
      "Model Family:                Gaussian   Df Model:                           33\n",
      "Link Function:               identity   Scale:                         0.13754\n",
      "Method:                          IRLS   Log-Likelihood:                -3824.0\n",
      "Date:                Tue, 05 Nov 2019   Deviance:                       1232.5\n",
      "Time:                        02:46:24   Pearson chi2:                 1.23e+03\n",
      "No. Iterations:                     3   Covariance Type:             nonrobust\n",
      "======================================================================================================\n",
      "                                         coef    std err          z      P>|z|      [0.025      0.975]\n",
      "------------------------------------------------------------------------------------------------------\n",
      "Duration.to.accept.offer           -5.451e-05      0.000     -0.312      0.755      -0.000       0.000\n",
      "Notice.period                          0.0030      0.000     15.289      0.000       0.003       0.003\n",
      "Pecent.hike.expected.in.CTC            0.0006      0.001      1.084      0.278      -0.000       0.002\n",
      "Percent.hike.offered.in.CTC           -0.0007      0.001     -1.366      0.172      -0.002       0.000\n",
      "Percent.difference.CTC                 0.0005      0.001      0.716      0.474      -0.001       0.002\n",
      "Rex.in.Yrs                             0.0048      0.003      1.779      0.075      -0.000       0.010\n",
      "Age                                   -0.0041      0.001     -3.461      0.001      -0.006      -0.002\n",
      "DOJ.Extended_Yes                      -0.0290      0.009     -3.353      0.001      -0.046      -0.012\n",
      "Offered.band_E1                       -0.1391      0.028     -4.975      0.000      -0.194      -0.084\n",
      "Offered.band_E2                       -0.1217      0.030     -4.001      0.000      -0.181      -0.062\n",
      "Offered.band_E3                       -0.1576      0.038     -4.157      0.000      -0.232      -0.083\n",
      "Joining.Bonus_Yes                      0.0187      0.019      0.968      0.333      -0.019       0.057\n",
      "Candidate.relocate.actual_Yes         -0.2085      0.012    -18.127      0.000      -0.231      -0.186\n",
      "Gender_Male                            0.0218      0.011      2.052      0.040       0.001       0.043\n",
      "Candidate.Source_Direct               -0.0500      0.010     -5.261      0.000      -0.069      -0.031\n",
      "Candidate.Source_Employee Referral    -0.0874      0.012     -7.107      0.000      -0.111      -0.063\n",
      "LOB_BFSI                              -0.0528      0.020     -2.608      0.009      -0.093      -0.013\n",
      "LOB_CSMP                              -0.0444      0.023     -1.970      0.049      -0.089      -0.000\n",
      "LOB_EAS                                0.0344      0.026      1.305      0.192      -0.017       0.086\n",
      "LOB_ERS                               -0.0341      0.019     -1.812      0.070      -0.071       0.003\n",
      "LOB_ETS                               -0.0662      0.022     -3.067      0.002      -0.109      -0.024\n",
      "LOB_Healthcare                        -0.0803      0.037     -2.151      0.031      -0.153      -0.007\n",
      "LOB_INFRA                             -0.0964      0.019     -4.953      0.000      -0.134      -0.058\n",
      "LOB_MMS                               -0.3005      0.097     -3.082      0.002      -0.492      -0.109\n",
      "Location_Bangalore                     0.4392      0.044      9.898      0.000       0.352       0.526\n",
      "Location_Chennai                       0.4546      0.044     10.258      0.000       0.368       0.541\n",
      "Location_Cochin                        0.4206      0.139      3.019      0.003       0.148       0.694\n",
      "Location_Gurgaon                       0.4353      0.054      8.079      0.000       0.330       0.541\n",
      "Location_Hyderabad                     0.4308      0.048      8.991      0.000       0.337       0.525\n",
      "Location_Kolkata                       0.4409      0.053      8.264      0.000       0.336       0.545\n",
      "Location_Mumbai                        0.3969      0.053      7.514      0.000       0.293       0.500\n",
      "Location_Noida                         0.4025      0.044      9.191      0.000       0.317       0.488\n",
      "Location_Others                        0.3394      0.113      2.996      0.003       0.117       0.561\n",
      "Location_Pune                          0.4396      0.070      6.291      0.000       0.303       0.577\n",
      "======================================================================================================\n"
     ]
    }
   ],
   "source": [
    "model=sm.GLM(y,x).fit()\n",
    "print(model.summary())"
   ]
  },
  {
   "cell_type": "code",
   "execution_count": 22,
   "metadata": {},
   "outputs": [],
   "source": [
    "model=sm.GLM(y,x).fit()\n",
    "while model.pvalues.sort_values(ascending=False)[0] > 0.025:\n",
    "    model=sm.GLM(y,x).fit()\n",
    "    high = model.pvalues.sort_values(ascending=False).index[0]\n",
    "    x.drop(high,axis=1,inplace=True)"
   ]
  },
  {
   "cell_type": "code",
   "execution_count": 23,
   "metadata": {},
   "outputs": [
    {
     "data": {
      "text/plain": [
       "(8995, 26)"
      ]
     },
     "execution_count": 23,
     "metadata": {},
     "output_type": "execute_result"
    }
   ],
   "source": [
    "x.shape"
   ]
  },
  {
   "cell_type": "code",
   "execution_count": 24,
   "metadata": {},
   "outputs": [
    {
     "data": {
      "text/html": [
       "<div>\n",
       "<style scoped>\n",
       "    .dataframe tbody tr th:only-of-type {\n",
       "        vertical-align: middle;\n",
       "    }\n",
       "\n",
       "    .dataframe tbody tr th {\n",
       "        vertical-align: top;\n",
       "    }\n",
       "\n",
       "    .dataframe thead th {\n",
       "        text-align: right;\n",
       "    }\n",
       "</style>\n",
       "<table border=\"1\" class=\"dataframe\">\n",
       "  <thead>\n",
       "    <tr style=\"text-align: right;\">\n",
       "      <th></th>\n",
       "      <th>Notice.period</th>\n",
       "      <th>Age</th>\n",
       "      <th>DOJ.Extended_Yes</th>\n",
       "      <th>Offered.band_E1</th>\n",
       "      <th>Offered.band_E2</th>\n",
       "      <th>Offered.band_E3</th>\n",
       "      <th>Candidate.relocate.actual_Yes</th>\n",
       "      <th>Candidate.Source_Direct</th>\n",
       "      <th>Candidate.Source_Employee Referral</th>\n",
       "      <th>LOB_BFSI</th>\n",
       "      <th>...</th>\n",
       "      <th>Location_Chennai</th>\n",
       "      <th>Location_Cochin</th>\n",
       "      <th>Location_Gurgaon</th>\n",
       "      <th>Location_Hyderabad</th>\n",
       "      <th>Location_Kolkata</th>\n",
       "      <th>Location_Mumbai</th>\n",
       "      <th>Location_Noida</th>\n",
       "      <th>Location_Others</th>\n",
       "      <th>Location_Pune</th>\n",
       "      <th>Status_Not Joined</th>\n",
       "    </tr>\n",
       "  </thead>\n",
       "  <tbody>\n",
       "    <tr>\n",
       "      <th>0</th>\n",
       "      <td>30</td>\n",
       "      <td>34</td>\n",
       "      <td>1</td>\n",
       "      <td>0</td>\n",
       "      <td>1</td>\n",
       "      <td>0</td>\n",
       "      <td>0</td>\n",
       "      <td>0</td>\n",
       "      <td>0</td>\n",
       "      <td>0</td>\n",
       "      <td>...</td>\n",
       "      <td>0</td>\n",
       "      <td>0</td>\n",
       "      <td>0</td>\n",
       "      <td>0</td>\n",
       "      <td>0</td>\n",
       "      <td>0</td>\n",
       "      <td>1</td>\n",
       "      <td>0</td>\n",
       "      <td>0</td>\n",
       "      <td>0</td>\n",
       "    </tr>\n",
       "    <tr>\n",
       "      <th>1</th>\n",
       "      <td>30</td>\n",
       "      <td>34</td>\n",
       "      <td>0</td>\n",
       "      <td>0</td>\n",
       "      <td>1</td>\n",
       "      <td>0</td>\n",
       "      <td>0</td>\n",
       "      <td>0</td>\n",
       "      <td>1</td>\n",
       "      <td>0</td>\n",
       "      <td>...</td>\n",
       "      <td>1</td>\n",
       "      <td>0</td>\n",
       "      <td>0</td>\n",
       "      <td>0</td>\n",
       "      <td>0</td>\n",
       "      <td>0</td>\n",
       "      <td>0</td>\n",
       "      <td>0</td>\n",
       "      <td>0</td>\n",
       "      <td>0</td>\n",
       "    </tr>\n",
       "    <tr>\n",
       "      <th>2</th>\n",
       "      <td>45</td>\n",
       "      <td>27</td>\n",
       "      <td>0</td>\n",
       "      <td>0</td>\n",
       "      <td>1</td>\n",
       "      <td>0</td>\n",
       "      <td>0</td>\n",
       "      <td>0</td>\n",
       "      <td>0</td>\n",
       "      <td>0</td>\n",
       "      <td>...</td>\n",
       "      <td>0</td>\n",
       "      <td>0</td>\n",
       "      <td>0</td>\n",
       "      <td>0</td>\n",
       "      <td>0</td>\n",
       "      <td>0</td>\n",
       "      <td>1</td>\n",
       "      <td>0</td>\n",
       "      <td>0</td>\n",
       "      <td>0</td>\n",
       "    </tr>\n",
       "    <tr>\n",
       "      <th>3</th>\n",
       "      <td>30</td>\n",
       "      <td>34</td>\n",
       "      <td>0</td>\n",
       "      <td>0</td>\n",
       "      <td>1</td>\n",
       "      <td>0</td>\n",
       "      <td>0</td>\n",
       "      <td>0</td>\n",
       "      <td>1</td>\n",
       "      <td>0</td>\n",
       "      <td>...</td>\n",
       "      <td>0</td>\n",
       "      <td>0</td>\n",
       "      <td>0</td>\n",
       "      <td>0</td>\n",
       "      <td>0</td>\n",
       "      <td>0</td>\n",
       "      <td>1</td>\n",
       "      <td>0</td>\n",
       "      <td>0</td>\n",
       "      <td>0</td>\n",
       "    </tr>\n",
       "    <tr>\n",
       "      <th>4</th>\n",
       "      <td>120</td>\n",
       "      <td>34</td>\n",
       "      <td>1</td>\n",
       "      <td>0</td>\n",
       "      <td>1</td>\n",
       "      <td>0</td>\n",
       "      <td>1</td>\n",
       "      <td>0</td>\n",
       "      <td>1</td>\n",
       "      <td>0</td>\n",
       "      <td>...</td>\n",
       "      <td>0</td>\n",
       "      <td>0</td>\n",
       "      <td>0</td>\n",
       "      <td>0</td>\n",
       "      <td>0</td>\n",
       "      <td>0</td>\n",
       "      <td>1</td>\n",
       "      <td>0</td>\n",
       "      <td>0</td>\n",
       "      <td>0</td>\n",
       "    </tr>\n",
       "  </tbody>\n",
       "</table>\n",
       "<p>5 rows × 27 columns</p>\n",
       "</div>"
      ],
      "text/plain": [
       "   Notice.period  Age  DOJ.Extended_Yes  Offered.band_E1  Offered.band_E2  \\\n",
       "0             30   34                 1                0                1   \n",
       "1             30   34                 0                0                1   \n",
       "2             45   27                 0                0                1   \n",
       "3             30   34                 0                0                1   \n",
       "4            120   34                 1                0                1   \n",
       "\n",
       "   Offered.band_E3  Candidate.relocate.actual_Yes  Candidate.Source_Direct  \\\n",
       "0                0                              0                        0   \n",
       "1                0                              0                        0   \n",
       "2                0                              0                        0   \n",
       "3                0                              0                        0   \n",
       "4                0                              1                        0   \n",
       "\n",
       "   Candidate.Source_Employee Referral  LOB_BFSI  ...  Location_Chennai  \\\n",
       "0                                   0         0  ...                 0   \n",
       "1                                   1         0  ...                 1   \n",
       "2                                   0         0  ...                 0   \n",
       "3                                   1         0  ...                 0   \n",
       "4                                   1         0  ...                 0   \n",
       "\n",
       "   Location_Cochin  Location_Gurgaon  Location_Hyderabad  Location_Kolkata  \\\n",
       "0                0                 0                   0                 0   \n",
       "1                0                 0                   0                 0   \n",
       "2                0                 0                   0                 0   \n",
       "3                0                 0                   0                 0   \n",
       "4                0                 0                   0                 0   \n",
       "\n",
       "   Location_Mumbai  Location_Noida  Location_Others  Location_Pune  \\\n",
       "0                0               1                0              0   \n",
       "1                0               0                0              0   \n",
       "2                0               1                0              0   \n",
       "3                0               1                0              0   \n",
       "4                0               1                0              0   \n",
       "\n",
       "   Status_Not Joined  \n",
       "0                  0  \n",
       "1                  0  \n",
       "2                  0  \n",
       "3                  0  \n",
       "4                  0  \n",
       "\n",
       "[5 rows x 27 columns]"
      ]
     },
     "execution_count": 24,
     "metadata": {},
     "output_type": "execute_result"
    }
   ],
   "source": [
    "df1=pd.concat((x,y),axis=1)\n",
    "df1.head()"
   ]
  },
  {
   "cell_type": "markdown",
   "metadata": {},
   "source": [
    "# upsampling"
   ]
  },
  {
   "cell_type": "code",
   "execution_count": 25,
   "metadata": {},
   "outputs": [],
   "source": [
    "x=df1.iloc[:,:-1] #independent\n",
    "y=df1.iloc[:,-1] # dependent"
   ]
  },
  {
   "cell_type": "code",
   "execution_count": 26,
   "metadata": {},
   "outputs": [
    {
     "data": {
      "text/plain": [
       "((8995, 26), (8995,))"
      ]
     },
     "execution_count": 26,
     "metadata": {},
     "output_type": "execute_result"
    }
   ],
   "source": [
    "x.shape,y.shape"
   ]
  },
  {
   "cell_type": "code",
   "execution_count": 27,
   "metadata": {},
   "outputs": [],
   "source": [
    "import imblearn\n",
    "from imblearn.over_sampling import SMOTE"
   ]
  },
  {
   "cell_type": "code",
   "execution_count": 28,
   "metadata": {},
   "outputs": [],
   "source": [
    "x_resample,y_resample=SMOTE(k_neighbors=5).fit_resample(x,y) "
   ]
  },
  {
   "cell_type": "code",
   "execution_count": 29,
   "metadata": {},
   "outputs": [
    {
     "data": {
      "text/plain": [
       "1    7313\n",
       "0    7313\n",
       "dtype: int64"
      ]
     },
     "execution_count": 29,
     "metadata": {},
     "output_type": "execute_result"
    },
    {
     "data": {
      "image/png": "[encoded data removed]",
      "text/plain": [
       "<Figure size 432x288 with 1 Axes>"
      ]
     },
     "metadata": {
      "needs_background": "light"
     },
     "output_type": "display_data"
    }
   ],
   "source": [
    "pd.Series(y_resample).value_counts().plot('bar')\n",
    "pd.Series(y_resample).value_counts()"
   ]
  },
  {
   "cell_type": "code",
   "execution_count": 30,
   "metadata": {},
   "outputs": [],
   "source": [
    "np.savez('hroversample.npz',x_resample,y_resample)"
   ]
  },
  {
   "cell_type": "code",
   "execution_count": 31,
   "metadata": {},
   "outputs": [
    {
     "data": {
      "text/plain": [
       "['arr_0', 'arr_1']"
      ]
     },
     "execution_count": 31,
     "metadata": {},
     "output_type": "execute_result"
    }
   ],
   "source": [
    "#load data\n",
    "data_over=np.load('hroversample.npz')\n",
    "data_over.files"
   ]
  },
  {
   "cell_type": "code",
   "execution_count": 32,
   "metadata": {},
   "outputs": [],
   "source": [
    "x_over=data_over['arr_0']\n",
    "y_over=data_over['arr_1']"
   ]
  },
  {
   "cell_type": "code",
   "execution_count": 33,
   "metadata": {},
   "outputs": [
    {
     "data": {
      "text/plain": [
       "1    7313\n",
       "0    7313\n",
       "dtype: int64"
      ]
     },
     "execution_count": 33,
     "metadata": {},
     "output_type": "execute_result"
    },
    {
     "data": {
      "image/png": "[encoded data removed]",
      "text/plain": [
       "<Figure size 432x288 with 1 Axes>"
      ]
     },
     "metadata": {
      "needs_background": "light"
     },
     "output_type": "display_data"
    }
   ],
   "source": [
    "pd.Series(y_over).value_counts().plot('bar')\n",
    "pd.Series(y_over).value_counts()"
   ]
  },
  {
   "cell_type": "code",
   "execution_count": 34,
   "metadata": {},
   "outputs": [
    {
     "data": {
      "text/plain": [
       "((11700, 26), (2926, 26), (11700,), (2926,))"
      ]
     },
     "execution_count": 34,
     "metadata": {},
     "output_type": "execute_result"
    }
   ],
   "source": [
    "from sklearn.model_selection import train_test_split\n",
    "x_train,x_test,y_train,y_test=train_test_split(x_over,y_over,test_size=0.2)\n",
    "x_train.shape,x_test.shape,y_train.shape,y_test.shape"
   ]
  },
  {
   "cell_type": "code",
   "execution_count": 35,
   "metadata": {},
   "outputs": [],
   "source": [
    "from sklearn.linear_model import LogisticRegression"
   ]
  },
  {
   "cell_type": "code",
   "execution_count": 36,
   "metadata": {},
   "outputs": [
    {
     "data": {
      "text/plain": [
       "LogisticRegression(C=1.0, class_weight=None, dual=False, fit_intercept=True,\n",
       "                   intercept_scaling=1, l1_ratio=None, max_iter=100,\n",
       "                   multi_class='warn', n_jobs=None, penalty='l2',\n",
       "                   random_state=None, solver='warn', tol=0.0001, verbose=0,\n",
       "                   warm_start=False)"
      ]
     },
     "execution_count": 36,
     "metadata": {},
     "output_type": "execute_result"
    }
   ],
   "source": [
    "model=LogisticRegression()\n",
    "model.fit(x_train,y_train)"
   ]
  },
  {
   "cell_type": "markdown",
   "metadata": {},
   "source": [
    "# Maximum Likilehood Estimation"
   ]
  },
  {
   "cell_type": "code",
   "execution_count": 37,
   "metadata": {},
   "outputs": [],
   "source": [
    "# for trsining data\n",
    "y_pred_train=model.predict_proba(x_train)\n",
    "y_pred_train_1=y_pred_train[:,1]"
   ]
  },
  {
   "cell_type": "code",
   "execution_count": 38,
   "metadata": {},
   "outputs": [
    {
     "data": {
      "text/plain": [
       "array([5.12070817e-01, 7.91498640e-01, 5.77189652e-01, ...,\n",
       "       5.67404274e-01, 7.03485304e-04, 1.35397864e-01])"
      ]
     },
     "execution_count": 38,
     "metadata": {},
     "output_type": "execute_result"
    }
   ],
   "source": [
    "y_pred_train_1"
   ]
  },
  {
   "cell_type": "code",
   "execution_count": 39,
   "metadata": {},
   "outputs": [],
   "source": [
    "class threshold():\n",
    "    def __init__(self):\n",
    "        self.th=0.5\n",
    "        \n",
    "    def predict_threshold(self,y):\n",
    "         if y>=self.th:\n",
    "            return 1\n",
    "         else:\n",
    "            return 0"
   ]
  },
  {
   "cell_type": "code",
   "execution_count": 40,
   "metadata": {},
   "outputs": [],
   "source": [
    "from sklearn.metrics import log_loss"
   ]
  },
  {
   "cell_type": "code",
   "execution_count": 41,
   "metadata": {},
   "outputs": [],
   "source": [
    "y_pred_train_prob_1=y_pred_train_1\n",
    "probabilities=np.linspace(0,1,num=100)\n",
    "pre=threshold()\n",
    "mle=[]\n",
    "for p in probabilities:\n",
    "    pre.th=p\n",
    "    yy=pd.Series(y_pred_train_prob_1)\n",
    "    y_pred_0_5=yy.apply(pre.predict_threshold)\n",
    "    loss=log_loss(y_train,y_pred_0_5)\n",
    "    mle.append(loss)"
   ]
  },
  {
   "cell_type": "code",
   "execution_count": 42,
   "metadata": {},
   "outputs": [
    {
     "name": "stdout",
     "output_type": "stream",
     "text": [
      "Threshold Probability Value= 0.48484848484848486\n"
     ]
    },
    {
     "data": {
      "image/png": "[encoded data removed]",
      "text/plain": [
       "<Figure size 2160x720 with 1 Axes>"
      ]
     },
     "metadata": {
      "needs_background": "light"
     },
     "output_type": "display_data"
    }
   ],
   "source": [
    "# visualize\n",
    "plt.figure(figsize=(30,10))\n",
    "plt.plot(probabilities,mle,'ro--')\n",
    "plt.plot(probabilities,mle,'b--')\n",
    "ind=np.array(mle).argmin()\n",
    "mx=max(mle)\n",
    "val=probabilities[ind]\n",
    "print('Threshold Probability Value=',val)\n",
    "plt.plot([val,val],[0,mx],'g')\n",
    "\n",
    "for i,p in enumerate(probabilities):\n",
    "    plt.text(probabilities[i],mle[i],'%0.2f'%(p))\n",
    "plt.xlabel('probabilities')\n",
    "plt.ylabel('-(Log Likelihood)')\n",
    "plt.grid()\n",
    "plt.show()"
   ]
  },
  {
   "cell_type": "code",
   "execution_count": 43,
   "metadata": {},
   "outputs": [],
   "source": [
    "y_pred_prob_test=model.predict_proba(x_test)\n",
    "y_pred_prob_test_1=y_pred_prob_test[:,1]"
   ]
  },
  {
   "cell_type": "code",
   "execution_count": 44,
   "metadata": {},
   "outputs": [],
   "source": [
    "pre=threshold() # Predictor class\n",
    "threh_prob=0.545 # from MLE\n",
    "pre.th=threh_prob # setting threshold\n",
    "yy=pd.Series(y_pred_prob_test_1) # converting prob array into series\n",
    "y_pred_class_test=yy.apply(pre.predict_threshold) # apply predictor class\n"
   ]
  },
  {
   "cell_type": "code",
   "execution_count": 45,
   "metadata": {},
   "outputs": [],
   "source": [
    "from sklearn.metrics import classification_report,confusion_matrix"
   ]
  },
  {
   "cell_type": "code",
   "execution_count": 46,
   "metadata": {},
   "outputs": [
    {
     "data": {
      "text/plain": [
       "array([[1153,  331],\n",
       "       [ 351, 1091]], dtype=int64)"
      ]
     },
     "execution_count": 46,
     "metadata": {},
     "output_type": "execute_result"
    }
   ],
   "source": [
    "cm=confusion_matrix(y_test,y_pred_class_test)\n",
    "cm"
   ]
  },
  {
   "cell_type": "code",
   "execution_count": 47,
   "metadata": {},
   "outputs": [
    {
     "data": {
      "image/png": "[encoded data removed]",
      "text/plain": [
       "<Figure size 360x216 with 1 Axes>"
      ]
     },
     "metadata": {
      "needs_background": "light"
     },
     "output_type": "display_data"
    }
   ],
   "source": [
    "plt.figure(figsize=(5,3))\n",
    "sns.heatmap(cm,annot=True,fmt='0.2f',xticklabels=['class-0','clas-1'],yticklabels=['class-0','class-1'],cbar=False)\n",
    "plt.xlabel('Predicted Values')\n",
    "plt.ylabel('True Values')\n",
    "plt.show()"
   ]
  },
  {
   "cell_type": "code",
   "execution_count": 48,
   "metadata": {},
   "outputs": [
    {
     "name": "stdout",
     "output_type": "stream",
     "text": [
      "              precision    recall  f1-score   support\n",
      "\n",
      "           0       0.77      0.78      0.77      1484\n",
      "           1       0.77      0.76      0.76      1442\n",
      "\n",
      "    accuracy                           0.77      2926\n",
      "   macro avg       0.77      0.77      0.77      2926\n",
      "weighted avg       0.77      0.77      0.77      2926\n",
      "\n"
     ]
    }
   ],
   "source": [
    "cr=classification_report(y_test,y_pred_class_test)\n",
    "print(cr)"
   ]
  },
  {
   "cell_type": "code",
   "execution_count": 49,
   "metadata": {},
   "outputs": [],
   "source": [
    "from sklearn.metrics import cohen_kappa_score"
   ]
  },
  {
   "cell_type": "code",
   "execution_count": 50,
   "metadata": {},
   "outputs": [
    {
     "data": {
      "text/plain": [
       "0.5336469879991101"
      ]
     },
     "execution_count": 50,
     "metadata": {},
     "output_type": "execute_result"
    }
   ],
   "source": [
    "cohen_kappa_score(y_test,y_pred_class_test)"
   ]
  },
  {
   "cell_type": "code",
   "execution_count": null,
   "metadata": {},
   "outputs": [],
   "source": []
  },
  {
   "cell_type": "code",
   "execution_count": 51,
   "metadata": {},
   "outputs": [],
   "source": [
    "pre=threshold() # Predictor class\n",
    "threh_prob=0.339 # from MLE\n",
    "pre.th=threh_prob # setting threshold\n",
    "yy=pd.Series(y_pred_prob_test_1) # converting prob array into series\n",
    "y_pred_class_test=yy.apply(pre.predict_threshold) # apply predictor class\n"
   ]
  },
  {
   "cell_type": "code",
   "execution_count": 52,
   "metadata": {},
   "outputs": [
    {
     "data": {
      "text/plain": [
       "array([[ 784,  700],\n",
       "       [ 132, 1310]], dtype=int64)"
      ]
     },
     "execution_count": 52,
     "metadata": {},
     "output_type": "execute_result"
    }
   ],
   "source": [
    "cm=confusion_matrix(y_test,y_pred_class_test)\n",
    "cm"
   ]
  },
  {
   "cell_type": "code",
   "execution_count": 53,
   "metadata": {},
   "outputs": [
    {
     "data": {
      "image/png": "[encoded data removed]",
      "text/plain": [
       "<Figure size 360x216 with 1 Axes>"
      ]
     },
     "metadata": {
      "needs_background": "light"
     },
     "output_type": "display_data"
    }
   ],
   "source": [
    "plt.figure(figsize=(5,3))\n",
    "sns.heatmap(cm,annot=True,fmt='0.2f',xticklabels=['class-0','clas-1'],yticklabels=['class-0','class-1'],cbar=False)\n",
    "plt.xlabel('Predicted Values')\n",
    "plt.ylabel('True Values')\n",
    "plt.show()"
   ]
  },
  {
   "cell_type": "code",
   "execution_count": 54,
   "metadata": {},
   "outputs": [
    {
     "name": "stdout",
     "output_type": "stream",
     "text": [
      "              precision    recall  f1-score   support\n",
      "\n",
      "           0       0.86      0.53      0.65      1484\n",
      "           1       0.65      0.91      0.76      1442\n",
      "\n",
      "    accuracy                           0.72      2926\n",
      "   macro avg       0.75      0.72      0.71      2926\n",
      "weighted avg       0.76      0.72      0.71      2926\n",
      "\n"
     ]
    }
   ],
   "source": [
    "cr=classification_report(y_test,y_pred_class_test)\n",
    "print(cr)"
   ]
  },
  {
   "cell_type": "code",
   "execution_count": 55,
   "metadata": {},
   "outputs": [
    {
     "data": {
      "text/plain": [
       "0.4343413313902046"
      ]
     },
     "execution_count": 55,
     "metadata": {},
     "output_type": "execute_result"
    }
   ],
   "source": [
    "cohen_kappa_score(y_test,y_pred_class_test)"
   ]
  },
  {
   "cell_type": "code",
   "execution_count": null,
   "metadata": {},
   "outputs": [],
   "source": []
  }
 ],
 "metadata": {
  "kernelspec": {
   "display_name": "Python 3",
   "language": "python",
   "name": "python3"
  },
  "language_info": {
   "codemirror_mode": {
    "name": "ipython",
    "version": 3
   },
   "file_extension": ".py",
   "mimetype": "text/x-python",
   "name": "python",
   "nbconvert_exporter": "python",
   "pygments_lexer": "ipython3",
   "version": "3.7.3"
  }
 },
 "nbformat": 4,
 "nbformat_minor": 2
}
